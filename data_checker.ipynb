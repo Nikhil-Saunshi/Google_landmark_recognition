{
  "cells": [
    {
      "cell_type": "code",
      "execution_count": 1,
      "metadata": {
        "collapsed": true,
        "pycharm": {
          "is_executing": false
        }
      },
      "outputs": [
        {
          "data": {
            "text/plain": "                 id                                                url  \\\n0  6e158a47eb2ca3f6  https://upload.wikimedia.org/wikipedia/commons...   \n1  202cd79556f30760  http://upload.wikimedia.org/wikipedia/commons/...   \n2  3ad87684c99c06e1  http://upload.wikimedia.org/wikipedia/commons/...   \n3  e7f70e9c61e66af3  https://upload.wikimedia.org/wikipedia/commons...   \n4  4072182eddd0100e  https://upload.wikimedia.org/wikipedia/commons...   \n\n   landmark_id  \n0       142820  \n1       104169  \n2        37914  \n3       102140  \n4         2474  ",
            "text/html": "\u003cdiv\u003e\n\u003cstyle scoped\u003e\n    .dataframe tbody tr th:only-of-type {\n        vertical-align: middle;\n    }\n\n    .dataframe tbody tr th {\n        vertical-align: top;\n    }\n\n    .dataframe thead th {\n        text-align: right;\n    }\n\u003c/style\u003e\n\u003ctable border\u003d\"1\" class\u003d\"dataframe\"\u003e\n  \u003cthead\u003e\n    \u003ctr style\u003d\"text-align: right;\"\u003e\n      \u003cth\u003e\u003c/th\u003e\n      \u003cth\u003eid\u003c/th\u003e\n      \u003cth\u003eurl\u003c/th\u003e\n      \u003cth\u003elandmark_id\u003c/th\u003e\n    \u003c/tr\u003e\n  \u003c/thead\u003e\n  \u003ctbody\u003e\n    \u003ctr\u003e\n      \u003cth\u003e0\u003c/th\u003e\n      \u003ctd\u003e6e158a47eb2ca3f6\u003c/td\u003e\n      \u003ctd\u003ehttps://upload.wikimedia.org/wikipedia/commons...\u003c/td\u003e\n      \u003ctd\u003e142820\u003c/td\u003e\n    \u003c/tr\u003e\n    \u003ctr\u003e\n      \u003cth\u003e1\u003c/th\u003e\n      \u003ctd\u003e202cd79556f30760\u003c/td\u003e\n      \u003ctd\u003ehttp://upload.wikimedia.org/wikipedia/commons/...\u003c/td\u003e\n      \u003ctd\u003e104169\u003c/td\u003e\n    \u003c/tr\u003e\n    \u003ctr\u003e\n      \u003cth\u003e2\u003c/th\u003e\n      \u003ctd\u003e3ad87684c99c06e1\u003c/td\u003e\n      \u003ctd\u003ehttp://upload.wikimedia.org/wikipedia/commons/...\u003c/td\u003e\n      \u003ctd\u003e37914\u003c/td\u003e\n    \u003c/tr\u003e\n    \u003ctr\u003e\n      \u003cth\u003e3\u003c/th\u003e\n      \u003ctd\u003ee7f70e9c61e66af3\u003c/td\u003e\n      \u003ctd\u003ehttps://upload.wikimedia.org/wikipedia/commons...\u003c/td\u003e\n      \u003ctd\u003e102140\u003c/td\u003e\n    \u003c/tr\u003e\n    \u003ctr\u003e\n      \u003cth\u003e4\u003c/th\u003e\n      \u003ctd\u003e4072182eddd0100e\u003c/td\u003e\n      \u003ctd\u003ehttps://upload.wikimedia.org/wikipedia/commons...\u003c/td\u003e\n      \u003ctd\u003e2474\u003c/td\u003e\n    \u003c/tr\u003e\n  \u003c/tbody\u003e\n\u003c/table\u003e\n\u003c/div\u003e"
          },
          "metadata": {},
          "output_type": "execute_result",
          "execution_count": 1
        }
      ],
      "source": "import pandas as pd\n\ndf \u003d pd.read_csv(\u0027/Users/saching12/Desktop/python codes/Google_landmark_recognition/train.csv\u0027)\ndf.head(5)\n\n"
    },
    {
      "cell_type": "code",
      "execution_count": 3,
      "outputs": [
        {
          "data": {
            "text/plain": "                      id                                                url  \\\n276438  000a00df314b41c1  http://upload.wikimedia.org/wikipedia/commons/...   \n\n        landmark_id  \n276438       199188  ",
            "text/html": "\u003cdiv\u003e\n\u003cstyle scoped\u003e\n    .dataframe tbody tr th:only-of-type {\n        vertical-align: middle;\n    }\n\n    .dataframe tbody tr th {\n        vertical-align: top;\n    }\n\n    .dataframe thead th {\n        text-align: right;\n    }\n\u003c/style\u003e\n\u003ctable border\u003d\"1\" class\u003d\"dataframe\"\u003e\n  \u003cthead\u003e\n    \u003ctr style\u003d\"text-align: right;\"\u003e\n      \u003cth\u003e\u003c/th\u003e\n      \u003cth\u003eid\u003c/th\u003e\n      \u003cth\u003eurl\u003c/th\u003e\n      \u003cth\u003elandmark_id\u003c/th\u003e\n    \u003c/tr\u003e\n  \u003c/thead\u003e\n  \u003ctbody\u003e\n    \u003ctr\u003e\n      \u003cth\u003e276438\u003c/th\u003e\n      \u003ctd\u003e000a00df314b41c1\u003c/td\u003e\n      \u003ctd\u003ehttp://upload.wikimedia.org/wikipedia/commons/...\u003c/td\u003e\n      \u003ctd\u003e199188\u003c/td\u003e\n    \u003c/tr\u003e\n  \u003c/tbody\u003e\n\u003c/table\u003e\n\u003c/div\u003e"
          },
          "metadata": {},
          "output_type": "execute_result",
          "execution_count": 3
        }
      ],
      "source": "\ndf[df[\u0027id\u0027] \u003d\u003d \u0027000a00df314b41c1\u0027]\n",
      "metadata": {
        "pycharm": {
          "metadata": false,
          "name": "#%%\n",
          "is_executing": false
        }
      }
    },
    {
      "cell_type": "code",
      "execution_count": null,
      "outputs": [],
      "source": "\n",
      "metadata": {
        "pycharm": {
          "metadata": false,
          "name": "#%%\n"
        }
      }
    }
  ],
  "metadata": {
    "language_info": {
      "codemirror_mode": {
        "name": "ipython",
        "version": 2
      },
      "file_extension": ".py",
      "mimetype": "text/x-python",
      "name": "python",
      "nbconvert_exporter": "python",
      "pygments_lexer": "ipython2",
      "version": "2.7.6"
    },
    "kernelspec": {
      "name": "pycharm-ce768a11",
      "language": "python",
      "display_name": "PyCharm (Google_landmark_recognition)"
    }
  },
  "nbformat": 4,
  "nbformat_minor": 0
}